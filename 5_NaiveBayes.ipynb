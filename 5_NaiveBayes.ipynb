{
 "cells": [
  {
   "cell_type": "code",
   "execution_count": 3,
   "metadata": {},
   "outputs": [
    {
     "ename": "SyntaxError",
     "evalue": "invalid syntax (<ipython-input-3-31a19312252c>, line 27)",
     "output_type": "error",
     "traceback": [
      "\u001b[1;36m  File \u001b[1;32m\"<ipython-input-3-31a19312252c>\"\u001b[1;36m, line \u001b[1;32m27\u001b[0m\n\u001b[1;33m    for line in re.findall(\"From:*\",allFiles)\u001b[0m\n\u001b[1;37m                                             ^\u001b[0m\n\u001b[1;31mSyntaxError\u001b[0m\u001b[1;31m:\u001b[0m invalid syntax\n"
     ]
    }
   ],
   "source": [
    "import pandas as pd\n",
    "import numpy as np\n",
    "import math\n",
    "import operator\n",
    "from os import listdir\n",
    "from os.path import isfile, join\n",
    "from random import shuffle\n",
    "import re\n",
    "\n",
    "import nltk\n",
    "from nltk import word_tokenize #importing word_tokenizer to tokenize the entire list of words\n",
    "\n",
    "myPath = r'C:\\Users\\khushalpt\\dataset2\\train\\comp.sys.ibm.pc.hardware' #importing the file\n",
    "listA =[] \n",
    "allFiles = listdir(myPath)\n",
    "print(\"Total number of files: \" + str(len(allFiles)))\n",
    "for fileName in allFiles:  \n",
    "    f = open(join (myPath,fileName), \"r\").read()\n",
    "    allFiles.append(word_tokenize(f))\n",
    "\n",
    "data_list=[]\n",
    "for i in allFiles:\n",
    "    for x in i:\n",
    "        data_list.append(x)\n",
    "\n",
    "#removing mail headers and signatures\n",
    "for line in re.findall(\"From:*\",allFiles)\n",
    "    data_list.remove(line)\n",
    "for line in re.findall(\"Subject:*\",allFiles)\n",
    "    data_list.remove(line)\n",
    "for line in re.findall(\"Organisation:*\",allFiles)\n",
    "    data_list.remove(line)\n",
    "for line in re.findall(\"Lines:*\",allFiles)\n",
    "    data_list.remove(line)\n",
    "for line in re.findall(\"NNTP-Posting-Host:*\",allFiles)\n",
    "    data_list.remove(line)\n",
    "for line in re.findall(\"In-Reply-To:*\",allFiles)\n",
    "    data_list.remove(line)\n",
    "        \n",
    "for i in data_list:\n",
    "    if (i.isalnum()):   #filtering everything other than alphabets and numbers\n",
    "        i = i\n",
    "    else:\n",
    "        data_list.remove(i)\n",
    "print(data_list)\n",
    "\n",
    "\n",
    "    "
   ]
  },
  {
   "cell_type": "code",
   "execution_count": null,
   "metadata": {},
   "outputs": [],
   "source": [
    "\n"
   ]
  }
 ],
 "metadata": {
  "kernelspec": {
   "display_name": "Python 3",
   "language": "python",
   "name": "python3"
  },
  "language_info": {
   "codemirror_mode": {
    "name": "ipython",
    "version": 3
   },
   "file_extension": ".py",
   "mimetype": "text/x-python",
   "name": "python",
   "nbconvert_exporter": "python",
   "pygments_lexer": "ipython3",
   "version": "3.7.3"
  }
 },
 "nbformat": 4,
 "nbformat_minor": 2
}
